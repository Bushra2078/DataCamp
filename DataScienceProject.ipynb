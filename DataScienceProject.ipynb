{
    "nbformat_minor": 1, 
    "cells": [
        {
            "source": "# H1 \"My Jupyter Notebook on IBM Data Science Experience.\"", 
            "cell_type": "markdown", 
            "metadata": {
                "collapsed": true
            }
        }, 
        {
            "source": "**Bushra** Data Science Analyst", 
            "cell_type": "markdown", 
            "metadata": {}
        }, 
        {
            "source": "_\"I am intersted in data science because this is very demanding feild now and have a bright future.IT industry always need these kind of skills set._", 
            "cell_type": "markdown", 
            "metadata": {}
        }, 
        {
            "source": "### H3 My code will show output 3.0", 
            "cell_type": "markdown", 
            "metadata": {}
        }, 
        {
            "execution_count": 1, 
            "cell_type": "code", 
            "metadata": {}, 
            "outputs": [
                {
                    "execution_count": 1, 
                    "metadata": {}, 
                    "data": {
                        "text/plain": "3.0"
                    }, 
                    "output_type": "execute_result"
                }
            ], 
            "source": "9/3"
        }, 
        {
            "execution_count": null, 
            "cell_type": "code", 
            "metadata": {}, 
            "outputs": [], 
            "source": "<font color=\"red\">RED TEXT</font>\n<a href=https://datascience.ibm.com><img src=https://datascience.ibm.com/graphics/landing/logo.svg width = 400></a>\n\n\n1. First ordered list item\n2. Another item\n3. Another item\n4. another item\n\n"
        }, 
        {
            "source": "Table:\n\nMarkdown | Less | Pretty\n--- | --- | ---\n*Still* | `renders` | **nicely**\n1 | 2 | 3", 
            "cell_type": "markdown", 
            "metadata": {}
        }, 
        {
            "execution_count": null, 
            "cell_type": "code", 
            "metadata": {}, 
            "outputs": [], 
            "source": ""
        }, 
        {
            "execution_count": null, 
            "cell_type": "code", 
            "metadata": {}, 
            "outputs": [], 
            "source": ""
        }
    ], 
    "metadata": {
        "kernelspec": {
            "display_name": "Python 3.5 with Spark 2.1", 
            "name": "python3-spark21", 
            "language": "python"
        }, 
        "language_info": {
            "mimetype": "text/x-python", 
            "nbconvert_exporter": "python", 
            "version": "3.5.4", 
            "name": "python", 
            "file_extension": ".py", 
            "pygments_lexer": "ipython3", 
            "codemirror_mode": {
                "version": 3, 
                "name": "ipython"
            }
        }
    }, 
    "nbformat": 4
}